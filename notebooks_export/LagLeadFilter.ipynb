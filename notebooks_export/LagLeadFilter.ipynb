{
 "cells": [
  {
   "cell_type": "markdown",
   "metadata": {},
   "source": [
    "## Frekvenskurvor för lag- och leadfilter"
   ]
  },
  {
   "cell_type": "markdown",
   "metadata": {},
   "source": [
    "### Lagfilter\n",
    "\n",
    "Ett *lagfilter* (eller *fasretarderande* länk) används för att höja kretsförstärkningen för låga frekvenser och har överföringsfunktionen\n",
    "$$\n",
    "    F_{lag}(s) = a\\frac{1+sT}{1+asT}, \\quad a>1.\n",
    "$$\n",
    "Som namnet antyder får man betala den högre förstärkningen med negativ fasförskjutning. I extremfallet då $a=\\infty$ fås en PI-regulator, som har fasen $-90^\\circ$ för låga frekvenser.\n"
   ]
  },
  {
   "cell_type": "code",
   "execution_count": null,
   "metadata": {},
   "outputs": [],
   "source": [
    "import control as ct\n",
    "import matplotlib as mpl\n",
    "import matplotlib.pyplot as plt\n",
    "\n",
    "T = 1\n",
    "a = [2, 5, 10, 100]\n",
    "s = ct.tf('s')\n",
    "F = [ai*(1+T*s)/(1+ai*T*s) for ai in a]\n",
    "F[3] = (1+T*s)/(T*s)    # ändra sista till en PI-regulator (oändligt stort a) \n",
    "\n",
    "mag, phase, omega = ct.bode([Fi for Fi in F])\n",
    "plt.legend(['a=2', 'a=5', 'a=10', r'$a=\\infty$'])\n",
    "plt.show()"
   ]
  },
  {
   "cell_type": "markdown",
   "metadata": {},
   "source": [
    "#### Observationer:\n",
    "\n",
    "- Förstärkningen för de lägsta frekvenserna är $a$ (oändligt med en PI-regulator) och för de högsta 1\n",
    "- Den största fasförlusten sker i intervallet $[1/aT, 1/T]$\n",
    "- Fasförlusten vid högre frekvenser $\\omega\\ge\\omega_1$ kan begränsas genom att välja $T$, så att $\\omega_1 T$ blir tillräckligt stort (belyst i designexemplet i föreläsning 11)"
   ]
  },
  {
   "cell_type": "markdown",
   "metadata": {},
   "source": [
    "### Leadfilter\n",
    "\n",
    "Ett leadfilter (fasavancerande länk) används för att höja fasen i mellanfrekvensområdet och har överföringsfunktionen\n",
    "$$\n",
    "    F_{lead}(s) = \\frac{1+sT}{1+sT/b}, \\quad b>1\n",
    "$$\n",
    "I extremfallet $b=\\infty$ fås en PD-regulator, som ger en fashöjning på $90^\\circ$ för de högsta frekvenserna."
   ]
  },
  {
   "cell_type": "code",
   "execution_count": null,
   "metadata": {},
   "outputs": [],
   "source": [
    "T = 1\n",
    "b = [2, 5, 10, 100]\n",
    "s = ct.tf('s')\n",
    "F = [(1+T*s)/(1+T*s/bi) for bi in b]\n",
    "F[3] = (1+T*s)    # ändra sista till en PD-regulator (oändligt stort b) \n",
    "\n",
    "mag, phase, omega = ct.bode([Fi for Fi in F], initial_phase = 0)\n",
    "plt.legend(['b=2', 'b=5', 'b=10', r'$b=\\infty$'])\n",
    "plt.show()"
   ]
  },
  {
   "cell_type": "markdown",
   "metadata": {},
   "source": [
    "#### Observationer:\n",
    "\n",
    "- Förstärkningen för de högsta frekvenserna är $b$ (oändligt med en PD-regulator) och för de lägsta 1\n",
    "- Den största fashöjningen sker i intervallet $[1/T, b/T]$ \n",
    "- Maximal fashöjning $\\varphi_{max}$ sker vid $\\omega=\\sqrt{b}/T$ (geometriska medelvärdet av brytfrekvenserna) och bestäms av relationen\n",
    "$$\n",
    "    b = \\frac{1+\\sin\\varphi_{max}}{1-\\sin\\varphi_{max}}\n",
    "$$"
   ]
  }
 ],
 "metadata": {
  "kernelspec": {
   "display_name": ".pyenv",
   "language": "python",
   "name": "python3"
  },
  "language_info": {
   "codemirror_mode": {
    "name": "ipython",
    "version": 3
   },
   "file_extension": ".py",
   "mimetype": "text/x-python",
   "name": "python",
   "nbconvert_exporter": "python",
   "pygments_lexer": "ipython3",
   "version": "3.9.6"
  }
 },
 "nbformat": 4,
 "nbformat_minor": 2
}
