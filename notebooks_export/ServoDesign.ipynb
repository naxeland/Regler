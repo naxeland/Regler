{
 "cells": [
  {
   "attachments": {},
   "cell_type": "markdown",
   "metadata": {},
   "source": [
    "## Design av ett enkelt servo"
   ]
  },
  {
   "cell_type": "markdown",
   "metadata": {},
   "source": [
    "![\"text\"](servo.png)"
   ]
  },
  {
   "attachments": {},
   "cell_type": "markdown",
   "metadata": {},
   "source": [
    "Blockschemat ovan visar ett positionsservo, där regulatorn $F(s)$ återkopplar positionsfelet (reglerfelet) $e$ och påverkar processen $G(s)$, som beskrivs av överföringsfunktionen\n",
    "\n",
    "$$\n",
    "  G(s) = \\frac{3}{s(1+0.015s+0.0001s^2)} = \\frac{3\\cdot 10^4}{s(s^2+150s+10^4)}\n",
    "$$\n",
    "\n",
    "Uppgiften är att finna en regulator $F(s)$, som uppfyller följande specifikationer:\n",
    "\n",
    "> 1. Börvärdesföljning: rampfel $\\le$ 0.5 mm då referensen $r$ är en ramp 30 mm/s\n",
    "> 2. Laststörning: positionsfel $\\le$ 0.5 mm vid stegstörning $v=15$\n",
    "> 3. Stabilitet: fasmarginal $\\varphi_m \\ge 45^\\circ$\n",
    "> 4. Snabbhet: $\\omega_c =70$ rad/s "
   ]
  },
  {
   "attachments": {},
   "cell_type": "markdown",
   "metadata": {},
   "source": [
    "### Steg 1: Försök med P-reglering\n",
    "\n",
    "Vad kan åstadkommas med en P-regulator $u(t)=K_p e(t)$? \n",
    "\n",
    "> Krav 1: Reglerfelet vid en börvärdesramp $r=30$ mm/s kan beräknas med slutvärdessatsen:\n",
    ">  $$\n",
    ">      \\lim_{t\\rightarrow\\infty} e_r(t) = \\lim_{s\\rightarrow 0} s\\cdot\\frac{1}{1+F(s)G(s)}\\cdot\\frac{30}{s^2} = \\frac{10}{K_p}\n",
    ">  $$\n",
    "> dvs kravet är uppfyllt om $K_p \\ge 20$.\n",
    "\n",
    "> Krav 2: Positionsfelet vid en stegstörning $v=15$ beräknas på liknande sätt:\n",
    "> $$\n",
    ">   \\lim_{t\\rightarrow\\infty} y_v(t) = \\lim_{s\\rightarrow 0} s\\cdot\\frac{G(s)}{1+F(s)G(s)}\\cdot\\frac{15}{s} = \\frac{15}{K_p}\n",
    "> $$  \n",
    "> dvs kravet är uppfyllt om $K_p \\ge 30$.\n",
    "\n",
    "Slutsatsen så långt är alltså att en P-regulator med förstärkningen $K_p = 30$ tillfredsställer de två första kraven. Låt oss undersöka vilka egenskaper det återkopplade systemet får med denna regulator!"
   ]
  },
  {
   "cell_type": "code",
   "execution_count": null,
   "metadata": {},
   "outputs": [],
   "source": [
    "import numpy as np\n",
    "import control as ct\n",
    "import matplotlib as mpl\n",
    "import matplotlib.pyplot as plt\n",
    "\n",
    "s = ct.tf('s')\n",
    "G = 3*10**4/(s*(s**2+150*s+10**4))\n",
    "\n",
    "def tidssvar(F):\n",
    "    L = [Fi*G for Fi in F]\n",
    "    fig, ax = plt.subplots(2, 1)\n",
    "    for i in range(len(F)):\n",
    "        t, er = ct.step_response(30/(s*(1+L[i])), 0.5)  # beräkna rampsvaret enligt krav 1\n",
    "        ax[0].plot(t, er)\n",
    "        t, yv = ct.step_response(15*G/(1+L[i]), 0.5)  # beräkna stegsvaret enligt krav 2\n",
    "        ax[1].plot(t, yv)\n",
    "        \n",
    "    fig.suptitle('Slutna systemets tidssvar')\n",
    "    fig.supxlabel('t')\n",
    "    plt.subplot(2, 1, 1)\n",
    "    plt.ylabel('Rampfel $e_r$')\n",
    "    plt.axhline(0.5, linestyle='--', linewidth=1)\n",
    "    plt.legend([f'F[{i}]' for i in range(len(F))])\n",
    "    plt.subplot(2, 1, 2)\n",
    "    plt.ylabel('Positionsfel $y_v$')\n",
    "    plt.axhline(0.5, linestyle='--', linewidth=1)\n",
    "    plt.legend([f'F[{i}]' for i in range(len(F))])\n",
    "    plt.show()\n",
    "\n",
    "def Lbode(F):\n",
    "    L = [Fi*G for Fi in F]\n",
    "    fig = plt.figure()\n",
    "    wc = np.zeros(len(F))\n",
    "    pm = np.zeros(len(F))\n",
    "    for i in range(len(F)):\n",
    "        mag, phase, omega = ct.bode_plot(L[i], omega=np.logspace(0, 3))  # plotta Bodediagram för L(s)..\n",
    "        gmi, pmi, wcgi, wcpi = ct.margin(L[i])      # .. och beräkna fasmarginal och skärfrekvens (krav 3 och 4)\n",
    "        wc[i] = wcpi\n",
    "        pm[i] = pmi\n",
    "    \n",
    "    fig.suptitle('Bodediagram för kretsöverföringen $L(s)$')\n",
    "    plt.subplot(2, 1, 1)\n",
    "    plt.legend([r'$\\omega_c=$'+ f'{wc[i]:.0f}' + ' rad/s' for i in range(len(F))])\n",
    "    plt.subplot(2, 1, 2)\n",
    "    plt.legend([r'$\\varphi_m=$'+ f'{pm[i]:.1f}' + r'$^\\circ$' for i in range(len(F))])\n",
    "    plt.show()\n",
    "\n",
    "def Tbode(F):\n",
    "    T = [Fi*G/(1+Fi*G) for Fi in F]\n",
    "    fig = plt.figure()\n",
    "    for i in range(len(F)):\n",
    "        mag, phase, omega = ct.bode_plot(T[i], omega=np.logspace(0, 3))\n",
    "\n",
    "    fig.suptitle('Bodediagram för slutna systemet $T(s)$')\n",
    "    plt.show()\n",
    "\n",
    "Kp1 = 30\n",
    "F = [Kp1]\n",
    "tidssvar(F)\n",
    "Lbode(F)\n",
    "Tbode(F)"
   ]
  },
  {
   "attachments": {},
   "cell_type": "markdown",
   "metadata": {},
   "source": [
    "#### Observationer\n",
    "\n",
    "> 1. Simuleringarna bekräftar att P-regulatorn uppfyller krav 1 med råge.\n",
    "> 2. Krav 2 är som väntat precis uppfyllt. \n",
    "> 3. Bodediagrammet för kretsöverföringen visar att fasmarginalen är otillräcklig ($21.5^\\circ$) enligt krav 3. Detta resulterar i att det slutna systemet får dålig dämpning och transienterna blir oscillativa, liksom att det slutna systemet $T(s)$ får en tydlig resonanstopp.\n",
    "> 4. Skärfrekvensen $\\omega_c$, som är ett mått på slutna systemets snabbhet, är tillräcklig enligt krav 4."
   ]
  },
  {
   "attachments": {},
   "cell_type": "markdown",
   "metadata": {},
   "source": [
    "### Steg 2: Inför ett lag-filter för att uppfylla krav 1-3\n",
    "\n",
    "För att få tillräcklig fasmarginal, så måste vi sänka förstärkningen $K_p$ (vilket kommer att sänka skärfrekvensen). För att ändå uppfylla krav 1 och 2 kan vi istället selektivt höja förstärkningen för låga frekvenser med ett lagfilter. Krav 3 anger $\\varphi_m\\ge 45^\\circ$, men eftersom ett lagfilter kommer att ge ytterligare negativ fasförskjutning, så siktar vi först på att ha en fasmarginal på $55^\\circ$. Vi måste då sänka skärfrekvensen från c:a $75$ rad/s till c:a $40$ rad/s, vilket innebär $K_p=40/3$ (ses enkelt genom att approximera $G(s)$ för lägre frekvenser med en integrator).\n",
    "\n",
    "Vi inför sedan ett lagfilter\n",
    "\n",
    "\\begin{equation*}\n",
    "  F_{lag}(s) = a\\frac{1+\\tau s}{1+a\\tau s}\n",
    "\\end{equation*}\n",
    "\n",
    "För att återställa förstärkningen för låga frekvenser, så väljer vi $a=30/(40/3)=2.25$. Valet $\\tau=3/\\omega_c=3/40$ ger c:a $10^\\circ$ fasförlust vid $\\omega_c$, vilket vi har tagit höjd för vid valet av skärfrekvens ovan."
   ]
  },
  {
   "cell_type": "code",
   "execution_count": null,
   "metadata": {},
   "outputs": [],
   "source": [
    "Kp2 = 40/3\n",
    "a = Kp1/Kp2\n",
    "tau = 3/40\n",
    "Flag = a*(1+tau*s)/(1+a*tau*s)\n",
    "F = [Kp1, Kp2*Flag]\n",
    "print('Flag = ', Flag)\n",
    "tidssvar(F)\n",
    "Lbode(F)\n",
    "Tbode(F)"
   ]
  },
  {
   "attachments": {},
   "cell_type": "markdown",
   "metadata": {},
   "source": [
    "#### Observationer\n",
    "\n",
    "> 1. Krav 1 är uppfyllt på samma sätt som i steg 1.\n",
    "> 2. Samma sak gäller krav 2. \n",
    "> 3. Krav 3 på fasmarginal är uppfyllt med en felmarginal på $1^\\circ$.\n",
    "> 4. Skärfrekvensen $\\omega_c$ har sänkts i steg 2, vilket innebär att krav 4 inte längre är uppfyllt."
   ]
  },
  {
   "attachments": {},
   "cell_type": "markdown",
   "metadata": {},
   "source": [
    "### Steg 3: Inför ett lead-filter för att uppfylla krav 4\n",
    "\n",
    "Det återstår nu att öka skärfrekvensen till stipulerade $70$ rad/s, och vi passar också på att öka fasmarginalen till $60^\\circ$ för att få ett ännu bättre dämpat system. Båda sakerna kan åstadkommas genom att höja fasen med ett lead-filter\n",
    "\n",
    "\\begin{equation*}\n",
    "  F_{lead}(s) = \\frac{1+\\tau_d s}{1+(\\tau_d/b) s}\n",
    "\\end{equation*}\n",
    "\n",
    "Av Bode-diagrammet ovan framgår att vi måste höja fasen med c:a $40^\\circ$ vid den nya skärfrekvensen. Valet $b=4.6$ ger önskat max faslyft, och med $\\tau_d=\\sqrt b/\\omega_c=0.031$ hamnar det maximala faslyftet vid $\\omega=\\omega_c$. Med dessa val blir kretsöverföringens förstärkning vid skärfrekvensen något för hög:\n",
    "\n",
    "\\begin{equation*}\n",
    "  |L(i\\omega_c)| = K_p\\cdot |F_{lag}(i\\omega_c)|\\cdot |F_{lead}(i\\omega_c)| = 1.06,\n",
    "\\end{equation*}\n",
    "\n",
    "så den färdiga regulatorn justeras därför till\n",
    "\n",
    "\\begin{equation*}\n",
    "  F(s) = \\frac{K_p}{1.06}F_{lag}(s)F_{lead}(s)\n",
    "\\end{equation*}\n",
    "\n",
    "\n",
    "\n"
   ]
  },
  {
   "cell_type": "code",
   "execution_count": null,
   "metadata": {},
   "outputs": [],
   "source": [
    "wc = 70 # önskad skärfrekvens\n",
    "mag, phase, omega = ct.frequency_response(F[1]*G, wc)\n",
    "phi = np.pi/3-(phase+np.pi)  # beräkna nödvändigt faslyft..\n",
    "b = (1+np.sin(phi))/(1-np.sin(phi))  # .. vilket ger lämpligt b ≈ 4.6\n",
    "taud = np.sqrt(b)/wc  # placera max faslyft vid den nya skärfrekvensen\n",
    "Flead = (1+taud*s)/(1+taud/b*s)\n",
    "mag, phase, omega = ct.frequency_response(F[1]*Flead*G, wc) # ≈ 1.066\n",
    "Kp3 = Kp2/mag\n",
    "F = [Kp1, Kp2*Flag, Kp3*Flag*Flead]\n",
    "print('Flead = ', Flead)\n",
    "tidssvar(F)\n",
    "Lbode(F)\n",
    "Tbode(F)\n",
    "\n",
    "fig = plt.figure()\n",
    "mag, phase, omega = ct.bode_plot(F[2], omega=np.logspace(0, 3))\n",
    "fig.suptitle('Bodediagram för den slutliga regulatorn $F(s)$')\n",
    "plt.show()"
   ]
  },
  {
   "attachments": {},
   "cell_type": "markdown",
   "metadata": {},
   "source": [
    "Vi avslutar med att visa det slutna systemets stegsvar för ändringar i referensvärdet för de tre framtagna regulatorerna. "
   ]
  },
  {
   "cell_type": "code",
   "execution_count": null,
   "metadata": {},
   "outputs": [],
   "source": [
    "L = [Fi*G for Fi in F]\n",
    "fig, ax = plt.subplots(2, 1)\n",
    "for i in range(len(F)):\n",
    "        t, yr = ct.step_response(L[i]/(1+L[i]), 0.5)  \n",
    "        ax[0].plot(t, yr)\n",
    "        t, ur = ct.step_response(F[i]/(1+L[i]), 0.5)  \n",
    "        ax[1].plot(t, ur)\n",
    "\n",
    "fig.suptitle('Slutna systemets stegsvar')\n",
    "fig.supxlabel('t')\n",
    "plt.subplot(2, 1, 1)\n",
    "plt.ylabel('Utsignal $y_r$')\n",
    "plt.axhline(1, linestyle='--', linewidth=1)\n",
    "plt.legend([f'F[{i}]' for i in range(len(F))])\n",
    "plt.subplot(2, 1, 2)\n",
    "plt.ylabel('Styrsignal $u_r$')\n",
    "plt.legend([f'F[{i}]' for i in range(len(F))])\n",
    "plt.show()"
   ]
  },
  {
   "cell_type": "code",
   "execution_count": null,
   "metadata": {},
   "outputs": [],
   "source": [
    "print('Brytfrekvenser är:')\n",
    "print([40/(2.25*3), 40/3, 1/0.03, 4.6/0.03])"
   ]
  },
  {
   "cell_type": "markdown",
   "metadata": {},
   "source": [
    "### Steg 4: Diskretisering av regulatorn\n",
    "\n",
    "Den färdiga regulatorn skall nu förberedas för *samplad reglering*, där regulatorn kommer att representeras av ett stycke programkod. Vi börjar med att undersöka hur valet av diskretiseringsmetod påverkar regulatorns frekvenskurva. Vi väljer här preliminärt ett samplingsintervall $h=0.01$ s. "
   ]
  },
  {
   "cell_type": "code",
   "execution_count": null,
   "metadata": {},
   "outputs": [],
   "source": [
    "Fc = F[2]\n",
    "h = 0.01    # samplingsintervall\n",
    "Fd_tustin = ct.sample_system(Fc, h, 'bilinear')\n",
    "Fd_forward = ct.sample_system(Fc, h, 'euler')\n",
    "Fd_backward = ct.sample_system(Fc, h, 'backward_diff')\n",
    "Fd_zoh = ct.sample_system(Fc, h, 'zoh')\n",
    "\n",
    "fig, axis = plt.subplots(2, 1)\n",
    "mag, phase, omega = ct.bode_plot([Fc, Fd_tustin, Fd_forward, Fd_backward, Fd_zoh], initial_phase=0)\n",
    "plt.subplot(2, 1, 2)\n",
    "plt.legend(['Fc', 'Tustin', 'Euler forward', 'Euler backward', 'Zero order hold'])\n",
    "plt.show()"
   ]
  },
  {
   "cell_type": "markdown",
   "metadata": {},
   "source": [
    "Vilken metod föredrar du?"
   ]
  }
 ],
 "metadata": {
  "kernelspec": {
   "display_name": ".pyenv",
   "language": "python",
   "name": "python3"
  },
  "language_info": {
   "codemirror_mode": {
    "name": "ipython",
    "version": 3
   },
   "file_extension": ".py",
   "mimetype": "text/x-python",
   "name": "python",
   "nbconvert_exporter": "python",
   "pygments_lexer": "ipython3",
   "version": "3.9.6"
  },
  "orig_nbformat": 4
 },
 "nbformat": 4,
 "nbformat_minor": 2
}
